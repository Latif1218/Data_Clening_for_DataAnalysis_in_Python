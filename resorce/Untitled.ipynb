{
 "cells": [
  {
   "cell_type": "markdown",
   "id": "ebee6cac-e910-4e9b-9085-13dc795089df",
   "metadata": {},
   "source": [
    "[Resorce_link_1](https://colab.research.google.com/drive/1vrTwKm7Ll4qI1zrInsc91tY3YuVw3dOQ#scrollTo=gvVJlNm7xK14)"
   ]
  },
  {
   "cell_type": "markdown",
   "id": "bfe1f982-abed-403c-930a-cd2d3032811e",
   "metadata": {},
   "source": [
    "[Resorce_link_2](https://github.com/campusx-official/data-wrangling/blob/master/Data%20Wrangling.ipynb)"
   ]
  },
  {
   "cell_type": "markdown",
   "id": "771faf87-7842-42b3-93f6-5f0f071b2673",
   "metadata": {},
   "source": [
    "[Resorce_link_3](https://docs.google.com/spreadsheets/d/1Si_wz1MLavnzwDBJvvhs7LQfmWJ1S0oy/edit?gid=158917938#gid=158917938)"
   ]
  },
  {
   "cell_type": "code",
   "execution_count": null,
   "id": "6de09cd6-6fcb-4bc4-9f27-60699a48fad6",
   "metadata": {},
   "outputs": [],
   "source": []
  }
 ],
 "metadata": {
  "kernelspec": {
   "display_name": "venv",
   "language": "python",
   "name": "venv"
  },
  "language_info": {
   "codemirror_mode": {
    "name": "ipython",
    "version": 3
   },
   "file_extension": ".py",
   "mimetype": "text/x-python",
   "name": "python",
   "nbconvert_exporter": "python",
   "pygments_lexer": "ipython3",
   "version": "3.13.1"
  }
 },
 "nbformat": 4,
 "nbformat_minor": 5
}
